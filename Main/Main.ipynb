{
  "cells": [
    {
      "cell_type": "markdown",
      "metadata": {
        "id": "d7xTBTJC5ebL"
      },
      "source": [
        "# 1. Import and Install Dependencies"
      ]
    },
    {
      "cell_type": "code",
      "execution_count": 1,
      "metadata": {
        "colab": {
          "base_uri": "https://localhost:8080/"
        },
        "id": "eMGz_pF95ebQ",
        "outputId": "86a9c3e2-ee87-4796-8d4c-88593ce70bc3"
      },
      "outputs": [
        {
          "output_type": "stream",
          "name": "stdout",
          "text": [
            "\u001b[31mERROR: Could not find a version that satisfies the requirement tensorflow==2.4.1 (from versions: 2.8.0rc0, 2.8.0rc1, 2.8.0, 2.8.1, 2.8.2, 2.8.3, 2.8.4, 2.9.0rc0, 2.9.0rc1, 2.9.0rc2, 2.9.0, 2.9.1, 2.9.2, 2.9.3, 2.10.0rc0, 2.10.0rc1, 2.10.0rc2, 2.10.0rc3, 2.10.0, 2.10.1, 2.11.0rc0, 2.11.0rc1, 2.11.0rc2, 2.11.0, 2.11.1, 2.12.0rc0, 2.12.0rc1, 2.12.0, 2.12.1, 2.13.0rc0, 2.13.0rc1, 2.13.0rc2, 2.13.0, 2.13.1, 2.14.0rc0, 2.14.0rc1, 2.14.0, 2.14.1, 2.15.0rc0, 2.15.0rc1, 2.15.0, 2.15.0.post1, 2.15.1, 2.16.0rc0, 2.16.1)\u001b[0m\u001b[31m\n",
            "\u001b[0m\u001b[31mERROR: No matching distribution found for tensorflow==2.4.1\u001b[0m\u001b[31m\n",
            "\u001b[0m"
          ]
        }
      ],
      "source": [
        "!pip install tensorflow==2.4.1 tensorflow-gpu==2.4.1 opencv-python mediapipe sklearn matplotlib"
      ]
    },
    {
      "cell_type": "code",
      "execution_count": null,
      "metadata": {
        "id": "wCBH2gn65ebT"
      },
      "outputs": [],
      "source": [
        "import cv2\n",
        "import numpy as np\n",
        "import os\n",
        "from matplotlib import pyplot as plt\n",
        "import time\n",
        "import mediapipe as mp"
      ]
    },
    {
      "cell_type": "markdown",
      "metadata": {
        "id": "mwgif-hN5ebU"
      },
      "source": [
        "# 2. Keypoints using MP Holistic"
      ]
    },
    {
      "cell_type": "code",
      "execution_count": null,
      "metadata": {
        "id": "muEeqnSC5ebV"
      },
      "outputs": [],
      "source": [
        "mp_holistic = mp.solutions.holistic # Holistic model\n",
        "mp_drawing = mp.solutions.drawing_utils # Drawing utilities"
      ]
    },
    {
      "cell_type": "code",
      "execution_count": null,
      "metadata": {
        "id": "pamF4Rwt5ebV"
      },
      "outputs": [],
      "source": [
        "def mediapipe_detection(image, model):\n",
        "    image = cv2.cvtColor(image, cv2.COLOR_BGR2RGB) # COLOR CONVERSION BGR 2 RGB\n",
        "    image.flags.writeable = False                  # Image is no longer writeable\n",
        "    results = model.process(image)                 # Make prediction\n",
        "    image.flags.writeable = True                   # Image is now writeable\n",
        "    image = cv2.cvtColor(image, cv2.COLOR_RGB2BGR) # COLOR COVERSION RGB 2 BGR\n",
        "    return image, results"
      ]
    },
    {
      "cell_type": "code",
      "execution_count": null,
      "metadata": {
        "id": "m7kpIAN05ebW"
      },
      "outputs": [],
      "source": [
        "def draw_landmarks(image, results):\n",
        "    mp_drawing.draw_landmarks(image, results.face_landmarks, mp_holistic.FACE_CONNECTIONS) # Draw face connections\n",
        "    mp_drawing.draw_landmarks(image, results.pose_landmarks, mp_holistic.POSE_CONNECTIONS) # Draw pose connections\n",
        "    mp_drawing.draw_landmarks(image, results.left_hand_landmarks, mp_holistic.HAND_CONNECTIONS) # Draw left hand connections\n",
        "    mp_drawing.draw_landmarks(image, results.right_hand_landmarks, mp_holistic.HAND_CONNECTIONS) # Draw right hand connections"
      ]
    },
    {
      "cell_type": "code",
      "execution_count": null,
      "metadata": {
        "id": "yCzl2jan5ebX"
      },
      "outputs": [],
      "source": [
        "def draw_styled_landmarks(image, results):\n",
        "    # Draw face connections\n",
        "    mp_drawing.draw_landmarks(image, results.face_landmarks, mp_holistic.FACE_CONNECTIONS,\n",
        "                             mp_drawing.DrawingSpec(color=(80,110,10), thickness=1, circle_radius=1),\n",
        "                             mp_drawing.DrawingSpec(color=(80,256,121), thickness=1, circle_radius=1)\n",
        "                             )\n",
        "    # Draw pose connections\n",
        "    mp_drawing.draw_landmarks(image, results.pose_landmarks, mp_holistic.POSE_CONNECTIONS,\n",
        "                             mp_drawing.DrawingSpec(color=(80,22,10), thickness=2, circle_radius=4),\n",
        "                             mp_drawing.DrawingSpec(color=(80,44,121), thickness=2, circle_radius=2)\n",
        "                             )\n",
        "    # Draw left hand connections\n",
        "    mp_drawing.draw_landmarks(image, results.left_hand_landmarks, mp_holistic.HAND_CONNECTIONS,\n",
        "                             mp_drawing.DrawingSpec(color=(121,22,76), thickness=2, circle_radius=4),\n",
        "                             mp_drawing.DrawingSpec(color=(121,44,250), thickness=2, circle_radius=2)\n",
        "                             )\n",
        "    # Draw right hand connections\n",
        "    mp_drawing.draw_landmarks(image, results.right_hand_landmarks, mp_holistic.HAND_CONNECTIONS,\n",
        "                             mp_drawing.DrawingSpec(color=(245,117,66), thickness=2, circle_radius=4),\n",
        "                             mp_drawing.DrawingSpec(color=(245,66,230), thickness=2, circle_radius=2)\n",
        "                             )"
      ]
    },
    {
      "cell_type": "code",
      "execution_count": null,
      "metadata": {
        "id": "8kwgbSeZ5ebY",
        "outputId": "bf05b413-722a-49fb-da2c-411111a07486"
      },
      "outputs": [
        {
          "name": "stdout",
          "output_type": "stream",
          "text": [
            "<class 'mediapipe.python.solution_base.SolutionOutputs'>\n",
            "<class 'mediapipe.python.solution_base.SolutionOutputs'>\n",
            "<class 'mediapipe.python.solution_base.SolutionOutputs'>\n",
            "<class 'mediapipe.python.solution_base.SolutionOutputs'>\n",
            "<class 'mediapipe.python.solution_base.SolutionOutputs'>\n",
            "<class 'mediapipe.python.solution_base.SolutionOutputs'>\n",
            "<class 'mediapipe.python.solution_base.SolutionOutputs'>\n",
            "<class 'mediapipe.python.solution_base.SolutionOutputs'>\n",
            "<class 'mediapipe.python.solution_base.SolutionOutputs'>\n",
            "<class 'mediapipe.python.solution_base.SolutionOutputs'>\n",
            "<class 'mediapipe.python.solution_base.SolutionOutputs'>\n",
            "<class 'mediapipe.python.solution_base.SolutionOutputs'>\n",
            "<class 'mediapipe.python.solution_base.SolutionOutputs'>\n",
            "<class 'mediapipe.python.solution_base.SolutionOutputs'>\n",
            "<class 'mediapipe.python.solution_base.SolutionOutputs'>\n",
            "<class 'mediapipe.python.solution_base.SolutionOutputs'>\n",
            "<class 'mediapipe.python.solution_base.SolutionOutputs'>\n",
            "<class 'mediapipe.python.solution_base.SolutionOutputs'>\n",
            "<class 'mediapipe.python.solution_base.SolutionOutputs'>\n",
            "<class 'mediapipe.python.solution_base.SolutionOutputs'>\n",
            "<class 'mediapipe.python.solution_base.SolutionOutputs'>\n",
            "<class 'mediapipe.python.solution_base.SolutionOutputs'>\n",
            "<class 'mediapipe.python.solution_base.SolutionOutputs'>\n",
            "<class 'mediapipe.python.solution_base.SolutionOutputs'>\n",
            "<class 'mediapipe.python.solution_base.SolutionOutputs'>\n",
            "<class 'mediapipe.python.solution_base.SolutionOutputs'>\n",
            "<class 'mediapipe.python.solution_base.SolutionOutputs'>\n",
            "<class 'mediapipe.python.solution_base.SolutionOutputs'>\n",
            "<class 'mediapipe.python.solution_base.SolutionOutputs'>\n",
            "<class 'mediapipe.python.solution_base.SolutionOutputs'>\n",
            "<class 'mediapipe.python.solution_base.SolutionOutputs'>\n",
            "<class 'mediapipe.python.solution_base.SolutionOutputs'>\n",
            "<class 'mediapipe.python.solution_base.SolutionOutputs'>\n",
            "<class 'mediapipe.python.solution_base.SolutionOutputs'>\n",
            "<class 'mediapipe.python.solution_base.SolutionOutputs'>\n",
            "<class 'mediapipe.python.solution_base.SolutionOutputs'>\n",
            "<class 'mediapipe.python.solution_base.SolutionOutputs'>\n",
            "<class 'mediapipe.python.solution_base.SolutionOutputs'>\n",
            "<class 'mediapipe.python.solution_base.SolutionOutputs'>\n",
            "<class 'mediapipe.python.solution_base.SolutionOutputs'>\n",
            "<class 'mediapipe.python.solution_base.SolutionOutputs'>\n",
            "<class 'mediapipe.python.solution_base.SolutionOutputs'>\n",
            "<class 'mediapipe.python.solution_base.SolutionOutputs'>\n",
            "<class 'mediapipe.python.solution_base.SolutionOutputs'>\n",
            "<class 'mediapipe.python.solution_base.SolutionOutputs'>\n",
            "<class 'mediapipe.python.solution_base.SolutionOutputs'>\n",
            "<class 'mediapipe.python.solution_base.SolutionOutputs'>\n",
            "<class 'mediapipe.python.solution_base.SolutionOutputs'>\n",
            "<class 'mediapipe.python.solution_base.SolutionOutputs'>\n",
            "<class 'mediapipe.python.solution_base.SolutionOutputs'>\n",
            "<class 'mediapipe.python.solution_base.SolutionOutputs'>\n",
            "<class 'mediapipe.python.solution_base.SolutionOutputs'>\n",
            "<class 'mediapipe.python.solution_base.SolutionOutputs'>\n",
            "<class 'mediapipe.python.solution_base.SolutionOutputs'>\n",
            "<class 'mediapipe.python.solution_base.SolutionOutputs'>\n",
            "<class 'mediapipe.python.solution_base.SolutionOutputs'>\n",
            "<class 'mediapipe.python.solution_base.SolutionOutputs'>\n",
            "<class 'mediapipe.python.solution_base.SolutionOutputs'>\n",
            "<class 'mediapipe.python.solution_base.SolutionOutputs'>\n",
            "<class 'mediapipe.python.solution_base.SolutionOutputs'>\n",
            "<class 'mediapipe.python.solution_base.SolutionOutputs'>\n"
          ]
        }
      ],
      "source": [
        "cap = cv2.VideoCapture(0)\n",
        "# Set mediapipe model\n",
        "with mp_holistic.Holistic(min_detection_confidence=0.5, min_tracking_confidence=0.5) as holistic:\n",
        "    while cap.isOpened():\n",
        "\n",
        "        # Read feed\n",
        "        ret, frame = cap.read()\n",
        "\n",
        "        # Make detections\n",
        "        image, results = mediapipe_detection(frame, holistic)\n",
        "        print(results)\n",
        "\n",
        "        # Draw landmarks\n",
        "        draw_styled_landmarks(image, results)\n",
        "\n",
        "        # Show to screen\n",
        "        cv2.imshow('OpenCV Feed', image)\n",
        "\n",
        "        # Break gracefully\n",
        "        if cv2.waitKey(10) & 0xFF == ord('q'):\n",
        "            break\n",
        "    cap.release()\n",
        "    cv2.destroyAllWindows()"
      ]
    },
    {
      "cell_type": "code",
      "execution_count": null,
      "metadata": {
        "id": "5n6rerqq5ebb",
        "outputId": "443d163d-5cfa-4236-dcf2-8f6aad1ae426"
      },
      "outputs": [
        {
          "data": {
            "text/plain": [
              "21"
            ]
          },
          "execution_count": 19,
          "metadata": {},
          "output_type": "execute_result"
        }
      ],
      "source": [
        "len(results.left_hand_landmarks.landmark)"
      ]
    },
    {
      "cell_type": "code",
      "execution_count": null,
      "metadata": {
        "id": "PQRnfUio5ebd",
        "outputId": "5fad5220-f4e5-4f60-804c-4a4bc8f9d552"
      },
      "outputs": [
        {
          "data": {
            "text/plain": [
              "mediapipe.python.solution_base.SolutionOutputs"
            ]
          },
          "execution_count": 27,
          "metadata": {},
          "output_type": "execute_result"
        }
      ],
      "source": [
        "results"
      ]
    },
    {
      "cell_type": "code",
      "execution_count": null,
      "metadata": {
        "id": "Ac_EAxob5ebe"
      },
      "outputs": [],
      "source": [
        "draw_landmarks(frame, results)"
      ]
    }
  ],
  "metadata": {
    "kernelspec": {
      "display_name": "action",
      "language": "python",
      "name": "action"
    },
    "language_info": {
      "codemirror_mode": {
        "name": "ipython",
        "version": 3
      },
      "file_extension": ".py",
      "mimetype": "text/x-python",
      "name": "python",
      "nbconvert_exporter": "python",
      "pygments_lexer": "ipython3",
      "version": "3.7.3"
    },
    "colab": {
      "provenance": []
    }
  },
  "nbformat": 4,
  "nbformat_minor": 0
}